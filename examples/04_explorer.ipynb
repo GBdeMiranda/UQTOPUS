{
 "cells": [
  {
   "cell_type": "code",
   "execution_count": 7,
   "id": "d7661039",
   "metadata": {},
   "outputs": [
    {
     "name": "stdout",
     "output_type": "stream",
     "text": [
      "The autoreload extension is already loaded. To reload it, use:\n",
      "  %reload_ext autoreload\n"
     ]
    }
   ],
   "source": [
    "# reload\n",
    "%load_ext autoreload\n",
    "%autoreload 2"
   ]
  },
  {
   "cell_type": "code",
   "execution_count": 8,
   "id": "3a864fca",
   "metadata": {},
   "outputs": [],
   "source": [
    "import numpy as np\n",
    "import xarray as xr\n",
    "from pathlib import Path\n",
    "import sys\n",
    "\n",
    "sys.path.insert(0, str(Path.cwd().parent))"
   ]
  },
  {
   "cell_type": "code",
   "execution_count": 9,
   "id": "d032b23d",
   "metadata": {},
   "outputs": [],
   "source": [
    "from src.uqtopus.core import run_iteration"
   ]
  },
  {
   "cell_type": "code",
   "execution_count": 52,
   "id": "0507300e",
   "metadata": {},
   "outputs": [],
   "source": [
    "def extract_max_velocity(results: xr.Dataset) -> float:\n",
    "    \"\"\"Extract maximum velocity magnitude from results.\"\"\"\n",
    "\n",
    "    U = results['U']\n",
    "    magnitude = np.sqrt(U[:, :, 0]**2 + U[:, :, 1]**2 + U[:, :, 2]**2)\n",
    "    return float(magnitude.max())"
   ]
  },
  {
   "cell_type": "code",
   "execution_count": 53,
   "id": "9e6a4f03",
   "metadata": {},
   "outputs": [],
   "source": [
    "test_params = {\n",
    "    'constant__transportProperties__DT': 5.0,\n",
    "}\n",
    "\n",
    "test_exp_config = {\n",
    "    'input_path': 'templates/scalarTransportFoam',\n",
    "    'output_path': 'experiments/myFirstExploratory',\n",
    "    'solver': 'Allrun',\n",
    "}\n"
   ]
  },
  {
   "cell_type": "code",
   "execution_count": 42,
   "id": "573c40e4",
   "metadata": {},
   "outputs": [
    {
     "name": "stdout",
     "output_type": "stream",
     "text": [
      "/mnt/c/Users/Lamap/Downloads/UQTOPUS/examples\n"
     ]
    }
   ],
   "source": [
    "from src.uqtopus.utils.openfoam_tools import parse_openfoam_case\n",
    "results = parse_openfoam_case(\"experiments/myFirstExploratory/iter_0000\", ['U'], time_dirs=[f\"{i:g}\" for i in np.arange(0, 0.1 + 1e-6, 0.005)])"
   ]
  },
  {
   "cell_type": "code",
   "execution_count": 54,
   "id": "1cc9aa0f",
   "metadata": {},
   "outputs": [
    {
     "name": "stdout",
     "output_type": "stream",
     "text": [
      "/mnt/c/Users/Lamap/Downloads/UQTOPUS/examples\n",
      "QoI value: 10.184068062540225\n",
      "Case directory: experiments/myFirstExploratory/iter_0000\n"
     ]
    }
   ],
   "source": [
    "iteration_num = 0\n",
    "\n",
    "qoi, results, case_dir = run_iteration(\n",
    "    iteration=iteration_num,\n",
    "    parameters=test_params,\n",
    "    exp_config=test_exp_config,\n",
    "    qoi_extractor=extract_max_velocity,\n",
    "    qoi_variables=['U'],\n",
    "    qoi_times=[f\"{i:g}\" for i in np.arange(0, 0.1 + 1e-6, 0.005)],\n",
    "    verbose=False\n",
    ")\n",
    "\n",
    "print(f\"QoI value: {qoi}\")\n",
    "print(f\"Case directory: {case_dir}\")"
   ]
  },
  {
   "cell_type": "code",
   "execution_count": null,
   "id": "aed0a08f",
   "metadata": {},
   "outputs": [],
   "source": []
  }
 ],
 "metadata": {
  "kernelspec": {
   "display_name": "openuqfoam",
   "language": "python",
   "name": "python3"
  },
  "language_info": {
   "codemirror_mode": {
    "name": "ipython",
    "version": 3
   },
   "file_extension": ".py",
   "mimetype": "text/x-python",
   "name": "python",
   "nbconvert_exporter": "python",
   "pygments_lexer": "ipython3",
   "version": "3.12.2"
  }
 },
 "nbformat": 4,
 "nbformat_minor": 5
}
